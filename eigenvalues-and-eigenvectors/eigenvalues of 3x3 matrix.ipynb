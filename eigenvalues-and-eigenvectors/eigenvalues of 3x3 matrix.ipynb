{
 "cells": [
  {
   "cell_type": "code",
   "execution_count": 1,
   "metadata": {},
   "outputs": [],
   "source": [
    "import sympy\n",
    "from sympy.abc import lamda #greekletter"
   ]
  },
  {
   "cell_type": "code",
   "execution_count": 2,
   "metadata": {},
   "outputs": [
    {
     "name": "stdout",
     "output_type": "stream",
     "text": [
      "⎡13  -4  2 ⎤\n",
      "⎢          ⎥\n",
      "⎢-4  11  -2⎥\n",
      "⎢          ⎥\n",
      "⎣2   -2  8 ⎦\n"
     ]
    }
   ],
   "source": [
    "A = sympy.Matrix( [ [13, -4, 2]\n",
    "                   ,[-4, 11, -2]\n",
    "                   ,[2, -2, 8]] )\n",
    "\n",
    "sympy.pretty_print(A)"
   ]
  },
  {
   "cell_type": "markdown",
   "metadata": {},
   "source": [
    "# Find eigenvalues"
   ]
  },
  {
   "cell_type": "code",
   "execution_count": 3,
   "metadata": {},
   "outputs": [
    {
     "name": "stdout",
     "output_type": "stream",
     "text": [
      "⎡1  0  0⎤\n",
      "⎢       ⎥\n",
      "⎢0  1  0⎥\n",
      "⎢       ⎥\n",
      "⎣0  0  1⎦\n"
     ]
    }
   ],
   "source": [
    "I = sympy.eye(A.rows)\n",
    "sympy.pretty_print(I)"
   ]
  },
  {
   "cell_type": "code",
   "execution_count": 4,
   "metadata": {},
   "outputs": [
    {
     "name": "stdout",
     "output_type": "stream",
     "text": [
      "⎡-λ + 13    -4       2   ⎤\n",
      "⎢                        ⎥\n",
      "⎢  -4     -λ + 11    -2  ⎥\n",
      "⎢                        ⎥\n",
      "⎣   2       -2     -λ + 8⎦\n"
     ]
    }
   ],
   "source": [
    "B = A - lamda * I\n",
    "sympy.pretty_print(B)"
   ]
  },
  {
   "cell_type": "code",
   "execution_count": 5,
   "metadata": {},
   "outputs": [
    {
     "name": "stdout",
     "output_type": "stream",
     "text": [
      "24⋅λ + (-λ + 8)⋅(-λ + 11)⋅(-λ + 13) - 192\n"
     ]
    }
   ],
   "source": [
    "characteristic_polynomial = sympy.det(B)\n",
    "sympy.pretty_print(characteristic_polynomial)"
   ]
  },
  {
   "cell_type": "code",
   "execution_count": 6,
   "metadata": {},
   "outputs": [
    {
     "data": {
      "text/plain": [
       "[7, 8, 17]"
      ]
     },
     "execution_count": 6,
     "metadata": {},
     "output_type": "execute_result"
    }
   ],
   "source": [
    "evalues = sympy.solve(characteristic_polynomial.as_poly())\n",
    "evalues"
   ]
  },
  {
   "cell_type": "code",
   "execution_count": 7,
   "metadata": {},
   "outputs": [],
   "source": [
    "def eigenvalues(M):\n",
    "    I = sympy.eye(M.rows)\n",
    "    B = M - lamda * I\n",
    "    characteristic_polynomial = sympy.det(B)\n",
    "    ev = sympy.solve(characteristic_polynomial.as_poly())\n",
    "    return(ev)"
   ]
  },
  {
   "cell_type": "code",
   "execution_count": 8,
   "metadata": {},
   "outputs": [
    {
     "data": {
      "text/plain": [
       "[7, 8, 17]"
      ]
     },
     "execution_count": 8,
     "metadata": {},
     "output_type": "execute_result"
    }
   ],
   "source": [
    "eigenvalues(A)"
   ]
  },
  {
   "cell_type": "markdown",
   "metadata": {},
   "source": [
    "# Find eigenvectors"
   ]
  },
  {
   "cell_type": "code",
   "execution_count": 9,
   "metadata": {},
   "outputs": [],
   "source": [
    "x,y,z = sympy.symbols('x y z') #components of vector"
   ]
  },
  {
   "cell_type": "code",
   "execution_count": 10,
   "metadata": {},
   "outputs": [
    {
     "name": "stdout",
     "output_type": "stream",
     "text": [
      "⎡0⎤\n",
      "⎢ ⎥\n",
      "⎢0⎥\n",
      "⎢ ⎥\n",
      "⎣0⎦\n"
     ]
    }
   ],
   "source": [
    "zero = sympy.zeros(A.rows,1)\n",
    "sympy.pretty_print(zero)"
   ]
  },
  {
   "cell_type": "code",
   "execution_count": 11,
   "metadata": {},
   "outputs": [
    {
     "name": "stdout",
     "output_type": "stream",
     "text": [
      "\n",
      "\n",
      "for eigenvalue =  7\n",
      "B = A - (7 * I) = \n",
      "⎡6   -4  2 ⎤\n",
      "⎢          ⎥\n",
      "⎢-4  4   -2⎥\n",
      "⎢          ⎥\n",
      "⎣2   -2  1 ⎦\n",
      "Augmented B = \n",
      "⎡6   -4  2   0⎤\n",
      "⎢             ⎥\n",
      "⎢-4  4   -2  0⎥\n",
      "⎢             ⎥\n",
      "⎣2   -2  1   0⎦\n",
      "solutions are of the form: {(0, x/2, x)}\n",
      "eigenvector is\n",
      "{(0, 1/2, 1)}\n",
      "\n",
      "\n",
      "for eigenvalue =  8\n",
      "B = A - (8 * I) = \n",
      "⎡5   -4  2 ⎤\n",
      "⎢          ⎥\n",
      "⎢-4  3   -2⎥\n",
      "⎢          ⎥\n",
      "⎣2   -2  0 ⎦\n",
      "Augmented B = \n",
      "⎡5   -4  2   0⎤\n",
      "⎢             ⎥\n",
      "⎢-4  3   -2  0⎥\n",
      "⎢             ⎥\n",
      "⎣2   -2  0   0⎦\n",
      "solutions are of the form: {(-2*x, -2*x, x)}\n",
      "eigenvector is\n",
      "{(-2, -2, 1)}\n",
      "\n",
      "\n",
      "for eigenvalue =  17\n",
      "B = A - (17 * I) = \n",
      "⎡-4  -4  2 ⎤\n",
      "⎢          ⎥\n",
      "⎢-4  -6  -2⎥\n",
      "⎢          ⎥\n",
      "⎣2   -2  -9⎦\n",
      "Augmented B = \n",
      "⎡-4  -4  2   0⎤\n",
      "⎢             ⎥\n",
      "⎢-4  -6  -2  0⎥\n",
      "⎢             ⎥\n",
      "⎣2   -2  -9  0⎦\n",
      "solutions are of the form: {(5*x/2, -2*x, x)}\n",
      "eigenvector is\n",
      "{(5/2, -2, 1)}\n"
     ]
    }
   ],
   "source": [
    "for ev in eigenvalues(A):\n",
    "    print('\\n')\n",
    "    print('for eigenvalue = ',ev)\n",
    "    B = A - (ev * I)\n",
    "    print('B = A - (%d * I) = ' % ev)\n",
    "    sympy.pretty_print(B)\n",
    "    B_aug = B.col_insert( pos = B.cols\n",
    "                         ,other = zero)\n",
    "    print('Augmented B = ')\n",
    "    sympy.pretty_print(B_aug)\n",
    "    solution=sympy.linsolve(B_aug,(z,y,x))\n",
    "    print('solutions are of the form:',solution)\n",
    "    vector = solution.subs(x,1)\n",
    "    print('eigenvector is')\n",
    "    sympy.pretty_print(vector)\n",
    "    "
   ]
  },
  {
   "cell_type": "code",
   "execution_count": 12,
   "metadata": {},
   "outputs": [],
   "source": [
    "def eigenvector(M,eigenvalue):\n",
    "    x,y,z = sympy.symbols('x y z')\n",
    "    zero = sympy.zeros(M.rows,1)\n",
    "    B = M - (eigenvalue * I)\n",
    "\n",
    "    B_aug = B.col_insert( pos = B.cols\n",
    "                         ,other = zero)\n",
    "\n",
    "    solution = sympy.linsolve(B_aug,(z,y,x))\n",
    "    solution_set = solution.subs(x,1)\n",
    "    vector = sympy.Matrix([_ for _ in solution_set]).transpose()\n",
    "    return(vector)"
   ]
  },
  {
   "cell_type": "code",
   "execution_count": 13,
   "metadata": {},
   "outputs": [
    {
     "name": "stdout",
     "output_type": "stream",
     "text": [
      "eigenvalue =  7\n",
      "eigenvector = \n",
      "⎡ 0 ⎤\n",
      "⎢   ⎥\n",
      "⎢1/2⎥\n",
      "⎢   ⎥\n",
      "⎣ 1 ⎦\n",
      "eigenvalue =  8\n",
      "eigenvector = \n",
      "⎡-2⎤\n",
      "⎢  ⎥\n",
      "⎢-2⎥\n",
      "⎢  ⎥\n",
      "⎣1 ⎦\n",
      "eigenvalue =  17\n",
      "eigenvector = \n",
      "⎡5/2⎤\n",
      "⎢   ⎥\n",
      "⎢-2 ⎥\n",
      "⎢   ⎥\n",
      "⎣ 1 ⎦\n"
     ]
    }
   ],
   "source": [
    "evalues = eigenvalues(A)\n",
    "evectors=sympy.Matrix([])\n",
    "for ev in evalues:\n",
    "    print('eigenvalue = ',ev)\n",
    "    print('eigenvector = ')\n",
    "    evector = eigenvector(A,ev)\n",
    "    evectors = evectors.col_insert(evectors.cols,evector)\n",
    "    sympy.pretty_print(evector)"
   ]
  },
  {
   "cell_type": "markdown",
   "metadata": {},
   "source": [
    "# Properties of eigenvectors"
   ]
  },
  {
   "cell_type": "markdown",
   "metadata": {},
   "source": [
    "## Orthaganol"
   ]
  },
  {
   "cell_type": "code",
   "execution_count": 14,
   "metadata": {},
   "outputs": [
    {
     "data": {
      "text/plain": [
       "Matrix([\n",
       "[0],\n",
       "[0],\n",
       "[0]])"
      ]
     },
     "execution_count": 14,
     "metadata": {},
     "output_type": "execute_result"
    }
   ],
   "source": [
    "evectors.col(0).cross(evectors.col(1)).cross(evectors.col(2)) #Orthogonality: Eigenvectors are always orthogonal)"
   ]
  },
  {
   "cell_type": "markdown",
   "metadata": {},
   "source": [
    "# the trace of a matrix is the sum of it's eigenvalues"
   ]
  },
  {
   "cell_type": "code",
   "execution_count": 15,
   "metadata": {},
   "outputs": [
    {
     "data": {
      "text/plain": [
       "32"
      ]
     },
     "execution_count": 15,
     "metadata": {},
     "output_type": "execute_result"
    }
   ],
   "source": [
    "sympy.trace(A)"
   ]
  },
  {
   "cell_type": "code",
   "execution_count": 16,
   "metadata": {},
   "outputs": [
    {
     "data": {
      "text/plain": [
       "32"
      ]
     },
     "execution_count": 16,
     "metadata": {},
     "output_type": "execute_result"
    }
   ],
   "source": [
    "sum(evalues)"
   ]
  },
  {
   "cell_type": "markdown",
   "metadata": {},
   "source": [
    "## the sum of squares is the sum of the eigenvalues squared"
   ]
  },
  {
   "cell_type": "code",
   "execution_count": 17,
   "metadata": {},
   "outputs": [
    {
     "data": {
      "text/plain": [
       "402"
      ]
     },
     "execution_count": 17,
     "metadata": {},
     "output_type": "execute_result"
    }
   ],
   "source": [
    "sum([_**2 for _ in A])"
   ]
  },
  {
   "cell_type": "code",
   "execution_count": 18,
   "metadata": {},
   "outputs": [
    {
     "data": {
      "text/plain": [
       "402"
      ]
     },
     "execution_count": 18,
     "metadata": {},
     "output_type": "execute_result"
    }
   ],
   "source": [
    "sum([ev**2 for ev in evalues])"
   ]
  },
  {
   "cell_type": "markdown",
   "metadata": {},
   "source": [
    "# determinant = product of eigenvalues,\n",
    "\n",
    "$det(A)=\\prod{λ_i}$ \n",
    "\n",
    "\n",
    "This means that the determinant will be zero if any $λ_i=0$"
   ]
  },
  {
   "cell_type": "code",
   "execution_count": 19,
   "metadata": {},
   "outputs": [
    {
     "data": {
      "text/plain": [
       "952"
      ]
     },
     "execution_count": 19,
     "metadata": {},
     "output_type": "execute_result"
    }
   ],
   "source": [
    "sympy.det(A)"
   ]
  },
  {
   "cell_type": "code",
   "execution_count": 20,
   "metadata": {},
   "outputs": [
    {
     "data": {
      "text/plain": [
       "952"
      ]
     },
     "execution_count": 20,
     "metadata": {},
     "output_type": "execute_result"
    }
   ],
   "source": [
    "from operator import mul\n",
    "from functools import reduce\n",
    "reduce(mul, evalues)"
   ]
  },
  {
   "cell_type": "markdown",
   "metadata": {},
   "source": [
    "## rank = number of non-zero eigenvalues"
   ]
  },
  {
   "cell_type": "code",
   "execution_count": 21,
   "metadata": {},
   "outputs": [
    {
     "data": {
      "text/plain": [
       "3"
      ]
     },
     "execution_count": 21,
     "metadata": {},
     "output_type": "execute_result"
    }
   ],
   "source": [
    "A.rank()"
   ]
  },
  {
   "cell_type": "code",
   "execution_count": 22,
   "metadata": {},
   "outputs": [
    {
     "data": {
      "text/plain": [
       "3"
      ]
     },
     "execution_count": 22,
     "metadata": {},
     "output_type": "execute_result"
    }
   ],
   "source": [
    "sum([ev != 0 for ev in evalues])"
   ]
  },
  {
   "cell_type": "markdown",
   "metadata": {},
   "source": [
    "## eigenvalues of $A^{−1}$ = 1/eigenvalues of A."
   ]
  },
  {
   "cell_type": "code",
   "execution_count": 23,
   "metadata": {},
   "outputs": [],
   "source": [
    "inverse_A = A.inv()"
   ]
  },
  {
   "cell_type": "code",
   "execution_count": 24,
   "metadata": {},
   "outputs": [
    {
     "data": {
      "text/plain": [
       "[1/17, 1/8, 1/7]"
      ]
     },
     "execution_count": 24,
     "metadata": {},
     "output_type": "execute_result"
    }
   ],
   "source": [
    "eigenvalues(inverse_A)"
   ]
  },
  {
   "cell_type": "code",
   "execution_count": null,
   "metadata": {},
   "outputs": [],
   "source": []
  },
  {
   "cell_type": "code",
   "execution_count": null,
   "metadata": {},
   "outputs": [],
   "source": []
  },
  {
   "cell_type": "code",
   "execution_count": null,
   "metadata": {},
   "outputs": [],
   "source": []
  },
  {
   "cell_type": "code",
   "execution_count": null,
   "metadata": {},
   "outputs": [],
   "source": []
  }
 ],
 "metadata": {
  "kernelspec": {
   "display_name": "Python 3",
   "language": "python",
   "name": "python3"
  },
  "language_info": {
   "codemirror_mode": {
    "name": "ipython",
    "version": 3
   },
   "file_extension": ".py",
   "mimetype": "text/x-python",
   "name": "python",
   "nbconvert_exporter": "python",
   "pygments_lexer": "ipython3",
   "version": "3.6.3"
  }
 },
 "nbformat": 4,
 "nbformat_minor": 2
}
