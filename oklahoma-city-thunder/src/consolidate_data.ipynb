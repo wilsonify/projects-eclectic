{
 "cells": [
  {
   "cell_type": "code",
   "execution_count": 3,
   "metadata": {
    "slideshow": {
     "slide_type": "-"
    }
   },
   "outputs": [],
   "source": [
    "import re\n",
    "import os\n",
    "import sys\n",
    "import glob\n",
    "import numpy as np\n",
    "import pandas as pd\n",
    "import seaborn as sns\n",
    "import sklearn\n",
    "from sklearn.linear_model import LinearRegression\n",
    "from matplotlib import pyplot as plt\n",
    "from fractions import Fraction\n",
    "import pandas_helpers\n",
    "import logging\n",
    "from logging.config import dictConfig\n",
    "import config\n",
    "#import nba_py"
   ]
  },
  {
   "cell_type": "code",
   "execution_count": 40,
   "metadata": {},
   "outputs": [],
   "source": [
    "os.makedirs(config.LOG_DIR, exist_ok=True)\n",
    "dictConfig(config.LOGGING_CONFIG_DICT)"
   ]
  },
  {
   "cell_type": "code",
   "execution_count": 41,
   "metadata": {},
   "outputs": [
    {
     "name": "stderr",
     "output_type": "stream",
     "text": [
      "reading attendance data\n",
      "clean_column_names\n",
      "parse_date_columns\n",
      "deduplicate\n"
     ]
    }
   ],
   "source": [
    "logging.info(\"reading attendance data\")\n",
    "attendance = pd.read_excel(\"../data/raw/nba_team_annual_attendance.xlsx\")\\\n",
    "    .clean_column_names()\\\n",
    "    .parse_date_columns()\\\n",
    "    .deduplicate([\"team\", \"starting_year\"])\n"
   ]
  },
  {
   "cell_type": "code",
   "execution_count": 42,
   "metadata": {},
   "outputs": [
    {
     "name": "stderr",
     "output_type": "stream",
     "text": [
      "clean_column_names\n",
      "parse_date_columns\n",
      "deduplicate\n"
     ]
    }
   ],
   "source": [
    "elo = pd.concat(map(pd.read_csv, glob.glob(\"../data/raw/nba_elo/nbaallelo.csv\")))\\\n",
    "    .clean_column_names()\\\n",
    "    .parse_date_columns()\\\n",
    "    .deduplicate(['team_id','opp_id','date_game'])"
   ]
  },
  {
   "cell_type": "code",
   "execution_count": 43,
   "metadata": {},
   "outputs": [],
   "source": [
    "elo['year'] = elo['date_game'].apply(lambda x: x.year)\n",
    "elo_okc = elo[elo['fran_id']=='Thunder']"
   ]
  },
  {
   "cell_type": "code",
   "execution_count": 44,
   "metadata": {},
   "outputs": [
    {
     "name": "stderr",
     "output_type": "stream",
     "text": [
      "deduplicate\n"
     ]
    }
   ],
   "source": [
    "elo_okc_annual = elo.deduplicate(['fran_id','year'])"
   ]
  },
  {
   "cell_type": "code",
   "execution_count": 45,
   "metadata": {},
   "outputs": [],
   "source": [
    "attendance_okc = attendance[attendance['team']=='Thunder']"
   ]
  },
  {
   "cell_type": "code",
   "execution_count": 46,
   "metadata": {},
   "outputs": [
    {
     "name": "stderr",
     "output_type": "stream",
     "text": [
      "deduplicate\n",
      "/home/jovyan/host/PycharmProjects/oklahoma_city_thunder/src/pandas_helpers.py:86: FutureWarning: 'team' is both an index level and a column label.\n",
      "Defaulting to column, but this will raise an ambiguity error in a future version\n",
      "  return self.groupby(key).agg(how_to_agg)\n",
      "/home/jovyan/host/PycharmProjects/oklahoma_city_thunder/src/pandas_helpers.py:86: FutureWarning: 'starting_year' is both an index level and a column label.\n",
      "Defaulting to column, but this will raise an ambiguity error in a future version\n",
      "  return self.groupby(key).agg(how_to_agg)\n"
     ]
    }
   ],
   "source": [
    "attendance_okc_annual = attendance_okc.deduplicate([\"team\", \"starting_year\"])"
   ]
  },
  {
   "cell_type": "code",
   "execution_count": 47,
   "metadata": {},
   "outputs": [
    {
     "name": "stderr",
     "output_type": "stream",
     "text": [
      "multi index merge\n"
     ]
    }
   ],
   "source": [
    "result = elo_okc_annual.merge_multi(attendance_okc_annual,left_on=['fran_id','year'], right_on=[\"team\", \"starting_year\"] , how='inner')"
   ]
  },
  {
   "cell_type": "code",
   "execution_count": 50,
   "metadata": {},
   "outputs": [
    {
     "data": {
      "text/plain": [
       "<matplotlib.axes._subplots.AxesSubplot at 0x7fb0297c6400>"
      ]
     },
     "execution_count": 50,
     "metadata": {},
     "output_type": "execute_result"
    },
    {
     "data": {
      "image/png": "[encoded data removed]",
      "text/plain": [
       "<Figure size 432x288 with 1 Axes>"
      ]
     },
     "metadata": {
      "needs_background": "light"
     },
     "output_type": "display_data"
    }
   ],
   "source": [
    "result.plot.scatter(x='starting_year',y='elo_n')"
   ]
  },
  {
   "cell_type": "code",
   "execution_count": 51,
   "metadata": {},
   "outputs": [],
   "source": [
    "result.to_csv(\"./attend_elo_combined.csv\")"
   ]
  },
  {
   "cell_type": "code",
   "execution_count": null,
   "metadata": {},
   "outputs": [],
   "source": []
  }
 ],
 "metadata": {
  "kernelspec": {
   "display_name": "Python 3",
   "language": "python",
   "name": "python3"
  },
  "language_info": {
   "codemirror_mode": {
    "name": "ipython",
    "version": 3
   },
   "file_extension": ".py",
   "mimetype": "text/x-python",
   "name": "python",
   "nbconvert_exporter": "python",
   "pygments_lexer": "ipython3",
   "version": "3.6.7"
  },
  "toc-showtags": false
 },
 "nbformat": 4,
 "nbformat_minor": 2
}
